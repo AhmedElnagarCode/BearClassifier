{
 "cells": [
  {
   "cell_type": "code",
   "execution_count": 12,
   "metadata": {},
   "outputs": [
    {
     "name": "stderr",
     "output_type": "stream",
     "text": [
      "\n",
      "[notice] A new release of pip available: 22.2.2 -> 23.0.1\n",
      "[notice] To update, run: python.exe -m pip install --upgrade pip\n"
     ]
    },
    {
     "name": "stdout",
     "output_type": "stream",
     "text": [
      "Requirement already satisfied: voila in c:\\users\\nagga\\appdata\\local\\programs\\python\\python310\\lib\\site-packages (0.4.0)\n",
      "Requirement already satisfied: nbclient<0.8,>=0.4.0 in c:\\users\\nagga\\appdata\\local\\programs\\python\\python310\\lib\\site-packages (from voila) (0.7.0)\n",
      "Requirement already satisfied: jupyterlab-server<3,>=2.3.0 in c:\\users\\nagga\\appdata\\local\\programs\\python\\python310\\lib\\site-packages (from voila) (2.19.0)\n",
      "Requirement already satisfied: jupyter-client<=7.4.1,>=6.1.3 in c:\\users\\nagga\\appdata\\local\\programs\\python\\python310\\lib\\site-packages (from voila) (7.4.1)\n",
      "Requirement already satisfied: jupyter-core>=4.11.0 in c:\\users\\nagga\\appdata\\local\\programs\\python\\python310\\lib\\site-packages (from voila) (4.11.2)\n",
      "Requirement already satisfied: jupyter-server<2.0.0,>=1.18 in c:\\users\\nagga\\appdata\\local\\programs\\python\\python310\\lib\\site-packages (from voila) (1.21.0)\n",
      "Requirement already satisfied: nbconvert<8,>=6.4.5 in c:\\users\\nagga\\appdata\\local\\programs\\python\\python310\\lib\\site-packages (from voila) (7.2.3)\n",
      "Requirement already satisfied: traitlets<6,>=5.0.3 in c:\\users\\nagga\\appdata\\local\\programs\\python\\python310\\lib\\site-packages (from voila) (5.5.0)\n",
      "Requirement already satisfied: websockets>=9.0 in c:\\users\\nagga\\appdata\\local\\programs\\python\\python310\\lib\\site-packages (from voila) (10.4)\n",
      "Requirement already satisfied: nest-asyncio>=1.5.4 in c:\\users\\nagga\\appdata\\local\\programs\\python\\python310\\lib\\site-packages (from jupyter-client<=7.4.1,>=6.1.3->voila) (1.5.6)\n",
      "Requirement already satisfied: tornado>=6.2 in c:\\users\\nagga\\appdata\\local\\programs\\python\\python310\\lib\\site-packages (from jupyter-client<=7.4.1,>=6.1.3->voila) (6.2)\n",
      "Requirement already satisfied: python-dateutil>=2.8.2 in c:\\users\\nagga\\appdata\\local\\programs\\python\\python310\\lib\\site-packages (from jupyter-client<=7.4.1,>=6.1.3->voila) (2.8.2)\n",
      "Requirement already satisfied: entrypoints in c:\\users\\nagga\\appdata\\local\\programs\\python\\python310\\lib\\site-packages (from jupyter-client<=7.4.1,>=6.1.3->voila) (0.4)\n",
      "Requirement already satisfied: pyzmq>=23.0 in c:\\users\\nagga\\appdata\\local\\programs\\python\\python310\\lib\\site-packages (from jupyter-client<=7.4.1,>=6.1.3->voila) (24.0.1)\n",
      "Requirement already satisfied: pywin32>=1.0 in c:\\users\\nagga\\appdata\\local\\programs\\python\\python310\\lib\\site-packages (from jupyter-core>=4.11.0->voila) (305)\n",
      "Requirement already satisfied: Send2Trash in c:\\users\\nagga\\appdata\\local\\programs\\python\\python310\\lib\\site-packages (from jupyter-server<2.0.0,>=1.18->voila) (1.8.0)\n",
      "Requirement already satisfied: websocket-client in c:\\users\\nagga\\appdata\\local\\programs\\python\\python310\\lib\\site-packages (from jupyter-server<2.0.0,>=1.18->voila) (1.4.2)\n",
      "Requirement already satisfied: pywinpty in c:\\users\\nagga\\appdata\\local\\programs\\python\\python310\\lib\\site-packages (from jupyter-server<2.0.0,>=1.18->voila) (2.0.9)\n",
      "Requirement already satisfied: anyio<4,>=3.1.0 in c:\\users\\nagga\\appdata\\local\\programs\\python\\python310\\lib\\site-packages (from jupyter-server<2.0.0,>=1.18->voila) (3.6.2)\n",
      "Requirement already satisfied: prometheus-client in c:\\users\\nagga\\appdata\\local\\programs\\python\\python310\\lib\\site-packages (from jupyter-server<2.0.0,>=1.18->voila) (0.15.0)\n",
      "Requirement already satisfied: argon2-cffi in c:\\users\\nagga\\appdata\\local\\programs\\python\\python310\\lib\\site-packages (from jupyter-server<2.0.0,>=1.18->voila) (21.3.0)\n",
      "Requirement already satisfied: packaging in c:\\users\\nagga\\appdata\\local\\programs\\python\\python310\\lib\\site-packages (from jupyter-server<2.0.0,>=1.18->voila) (21.3)\n",
      "Requirement already satisfied: terminado>=0.8.3 in c:\\users\\nagga\\appdata\\local\\programs\\python\\python310\\lib\\site-packages (from jupyter-server<2.0.0,>=1.18->voila) (0.17.0)\n",
      "Requirement already satisfied: nbformat>=5.2.0 in c:\\users\\nagga\\appdata\\local\\programs\\python\\python310\\lib\\site-packages (from jupyter-server<2.0.0,>=1.18->voila) (5.7.0)\n",
      "Requirement already satisfied: jinja2 in c:\\users\\nagga\\appdata\\local\\programs\\python\\python310\\lib\\site-packages (from jupyter-server<2.0.0,>=1.18->voila) (3.1.2)\n",
      "Requirement already satisfied: json5>=0.9.0 in c:\\users\\nagga\\appdata\\local\\programs\\python\\python310\\lib\\site-packages (from jupyterlab-server<3,>=2.3.0->voila) (0.9.11)\n",
      "Requirement already satisfied: jsonschema>=4.17.3 in c:\\users\\nagga\\appdata\\local\\programs\\python\\python310\\lib\\site-packages (from jupyterlab-server<3,>=2.3.0->voila) (4.17.3)\n",
      "Requirement already satisfied: requests>=2.28 in c:\\users\\nagga\\appdata\\local\\programs\\python\\python310\\lib\\site-packages (from jupyterlab-server<3,>=2.3.0->voila) (2.28.1)\n",
      "Requirement already satisfied: babel>=2.10 in c:\\users\\nagga\\appdata\\local\\programs\\python\\python310\\lib\\site-packages (from jupyterlab-server<3,>=2.3.0->voila) (2.11.0)\n",
      "Requirement already satisfied: pygments>=2.4.1 in c:\\users\\nagga\\appdata\\local\\programs\\python\\python310\\lib\\site-packages (from nbconvert<8,>=6.4.5->voila) (2.13.0)\n",
      "Requirement already satisfied: markupsafe>=2.0 in c:\\users\\nagga\\appdata\\local\\programs\\python\\python310\\lib\\site-packages (from nbconvert<8,>=6.4.5->voila) (2.1.1)\n",
      "Requirement already satisfied: bleach in c:\\users\\nagga\\appdata\\local\\programs\\python\\python310\\lib\\site-packages (from nbconvert<8,>=6.4.5->voila) (5.0.1)\n",
      "Requirement already satisfied: jupyterlab-pygments in c:\\users\\nagga\\appdata\\local\\programs\\python\\python310\\lib\\site-packages (from nbconvert<8,>=6.4.5->voila) (0.2.2)\n",
      "Requirement already satisfied: beautifulsoup4 in c:\\users\\nagga\\appdata\\local\\programs\\python\\python310\\lib\\site-packages (from nbconvert<8,>=6.4.5->voila) (4.11.1)\n",
      "Requirement already satisfied: mistune<3,>=2.0.3 in c:\\users\\nagga\\appdata\\local\\programs\\python\\python310\\lib\\site-packages (from nbconvert<8,>=6.4.5->voila) (2.0.4)\n",
      "Requirement already satisfied: pandocfilters>=1.4.1 in c:\\users\\nagga\\appdata\\local\\programs\\python\\python310\\lib\\site-packages (from nbconvert<8,>=6.4.5->voila) (1.5.0)\n",
      "Requirement already satisfied: tinycss2 in c:\\users\\nagga\\appdata\\local\\programs\\python\\python310\\lib\\site-packages (from nbconvert<8,>=6.4.5->voila) (1.2.1)\n",
      "Requirement already satisfied: defusedxml in c:\\users\\nagga\\appdata\\local\\programs\\python\\python310\\lib\\site-packages (from nbconvert<8,>=6.4.5->voila) (0.7.1)\n",
      "Requirement already satisfied: sniffio>=1.1 in c:\\users\\nagga\\appdata\\local\\programs\\python\\python310\\lib\\site-packages (from anyio<4,>=3.1.0->jupyter-server<2.0.0,>=1.18->voila) (1.3.0)\n",
      "Requirement already satisfied: idna>=2.8 in c:\\users\\nagga\\appdata\\local\\programs\\python\\python310\\lib\\site-packages (from anyio<4,>=3.1.0->jupyter-server<2.0.0,>=1.18->voila) (3.4)\n",
      "Requirement already satisfied: pytz>=2015.7 in c:\\users\\nagga\\appdata\\local\\programs\\python\\python310\\lib\\site-packages (from babel>=2.10->jupyterlab-server<3,>=2.3.0->voila) (2022.7.1)\n",
      "Requirement already satisfied: pyrsistent!=0.17.0,!=0.17.1,!=0.17.2,>=0.14.0 in c:\\users\\nagga\\appdata\\local\\programs\\python\\python310\\lib\\site-packages (from jsonschema>=4.17.3->jupyterlab-server<3,>=2.3.0->voila) (0.19.2)\n",
      "Requirement already satisfied: attrs>=17.4.0 in c:\\users\\nagga\\appdata\\local\\programs\\python\\python310\\lib\\site-packages (from jsonschema>=4.17.3->jupyterlab-server<3,>=2.3.0->voila) (22.1.0)\n",
      "Requirement already satisfied: fastjsonschema in c:\\users\\nagga\\appdata\\local\\programs\\python\\python310\\lib\\site-packages (from nbformat>=5.2.0->jupyter-server<2.0.0,>=1.18->voila) (2.16.2)\n",
      "Requirement already satisfied: pyparsing!=3.0.5,>=2.0.2 in c:\\users\\nagga\\appdata\\local\\programs\\python\\python310\\lib\\site-packages (from packaging->jupyter-server<2.0.0,>=1.18->voila) (3.0.9)\n",
      "Requirement already satisfied: six>=1.5 in c:\\users\\nagga\\appdata\\local\\programs\\python\\python310\\lib\\site-packages (from python-dateutil>=2.8.2->jupyter-client<=7.4.1,>=6.1.3->voila) (1.16.0)\n",
      "Requirement already satisfied: charset-normalizer<3,>=2 in c:\\users\\nagga\\appdata\\local\\programs\\python\\python310\\lib\\site-packages (from requests>=2.28->jupyterlab-server<3,>=2.3.0->voila) (2.1.1)\n",
      "Requirement already satisfied: certifi>=2017.4.17 in c:\\users\\nagga\\appdata\\local\\programs\\python\\python310\\lib\\site-packages (from requests>=2.28->jupyterlab-server<3,>=2.3.0->voila) (2022.9.24)\n",
      "Requirement already satisfied: urllib3<1.27,>=1.21.1 in c:\\users\\nagga\\appdata\\local\\programs\\python\\python310\\lib\\site-packages (from requests>=2.28->jupyterlab-server<3,>=2.3.0->voila) (1.26.12)\n",
      "Requirement already satisfied: argon2-cffi-bindings in c:\\users\\nagga\\appdata\\local\\programs\\python\\python310\\lib\\site-packages (from argon2-cffi->jupyter-server<2.0.0,>=1.18->voila) (21.2.0)\n",
      "Requirement already satisfied: soupsieve>1.2 in c:\\users\\nagga\\appdata\\local\\programs\\python\\python310\\lib\\site-packages (from beautifulsoup4->nbconvert<8,>=6.4.5->voila) (2.3.2.post1)\n",
      "Requirement already satisfied: webencodings in c:\\users\\nagga\\appdata\\local\\programs\\python\\python310\\lib\\site-packages (from bleach->nbconvert<8,>=6.4.5->voila) (0.5.1)\n",
      "Requirement already satisfied: cffi>=1.0.1 in c:\\users\\nagga\\appdata\\local\\programs\\python\\python310\\lib\\site-packages (from argon2-cffi-bindings->argon2-cffi->jupyter-server<2.0.0,>=1.18->voila) (1.15.1)\n",
      "Requirement already satisfied: pycparser in c:\\users\\nagga\\appdata\\local\\programs\\python\\python310\\lib\\site-packages (from cffi>=1.0.1->argon2-cffi-bindings->argon2-cffi->jupyter-server<2.0.0,>=1.18->voila) (2.21)\n"
     ]
    },
    {
     "name": "stderr",
     "output_type": "stream",
     "text": [
      "Enabling: voila\n",
      "- Writing config: C:\\Users\\nagga\\AppData\\Local\\Programs\\Python\\Python310\\etc\\jupyter\n",
      "    - Validating...\n",
      "      voila 0.4.0 ok\n"
     ]
    }
   ],
   "source": [
    "!pip install voila\n",
    "!jupyter serverextension enable --sys-prefix voila"
   ]
  },
  {
   "cell_type": "code",
   "execution_count": 13,
   "metadata": {},
   "outputs": [],
   "source": [
    "import fastbook\n",
    "fastbook.setup_book()\n",
    "from fastbook import *\n",
    "from fastai.vision.widgets import *"
   ]
  },
  {
   "cell_type": "code",
   "execution_count": 14,
   "metadata": {},
   "outputs": [
    {
     "data": {
      "application/vnd.jupyter.widget-view+json": {
       "model_id": "55ad1d6a18c144b3a7f96b05e000d3ca",
       "version_major": 2,
       "version_minor": 0
      },
      "text/plain": [
       "VBox(children=(Label(value='Select your bear!'), FileUpload(value={}, description='Upload'), Button(descriptio…"
      ]
     },
     "metadata": {},
     "output_type": "display_data"
    }
   ],
   "source": [
    "path = Path()\n",
    "learn_inf = load_learner(path/'export.pkl')\n",
    "\n",
    "btn_run = widgets.Button(description='Classify')\n",
    "\n",
    "btn_upload = widgets.FileUpload()\n",
    "\n",
    "out_pl = widgets.Output()\n",
    "out_pl.clear_output()\n",
    "# with out_pl: display(img.to_thumb(128,128))\n",
    "# out_pl\n",
    "\n",
    "# pred,pred_idx,probs = learn_inf.predict(img)\n",
    "\n",
    "lbl_pred = widgets.Label()\n",
    "# lbl_pred.value = f'Prediction: {pred}; Probability: {probs[pred_idx]:.04f}'\n",
    "\n",
    "def on_click_classify(change):\n",
    "    img = PILImage.create(btn_upload.data[-1])\n",
    "    out_pl.clear_output()\n",
    "    with out_pl: display(img.to_thumb(128,128))\n",
    "    pred,pred_idx,probs = learn_inf.predict(img)\n",
    "    lbl_pred.value = f'Prediction: {pred}; Probability: {probs[pred_idx]:.04f}'\n",
    "\n",
    "btn_run.on_click(on_click_classify)\n",
    "\n",
    "VBox([widgets.Label('Select your bear!'), \n",
    "      btn_upload, btn_run, out_pl, lbl_pred])"
   ]
  }
 ],
 "metadata": {
  "kernelspec": {
   "display_name": "Python 3",
   "language": "python",
   "name": "python3"
  },
  "language_info": {
   "codemirror_mode": {
    "name": "ipython",
    "version": 3
   },
   "file_extension": ".py",
   "mimetype": "text/x-python",
   "name": "python",
   "nbconvert_exporter": "python",
   "pygments_lexer": "ipython3",
   "version": "3.10.8"
  },
  "orig_nbformat": 4,
  "vscode": {
   "interpreter": {
    "hash": "fff244d5a113cbc6a2e6606c06365185ba2b1d2c5db5e60fd9d8a0235935146b"
   }
  }
 },
 "nbformat": 4,
 "nbformat_minor": 2
}
